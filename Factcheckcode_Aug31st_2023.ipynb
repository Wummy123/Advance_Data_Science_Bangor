{
  "cells": [
    {
      "cell_type": "markdown",
      "id": "88876c18",
      "metadata": {
        "id": "88876c18"
      },
      "source": [
        "## **Validation of Chat GPT data with ML models**"
      ]
    },
    {
      "cell_type": "code",
      "source": [
        "from google.colab import drive\n",
        "drive.mount('/content/drive')"
      ],
      "metadata": {
        "colab": {
          "base_uri": "https://localhost:8080/"
        },
        "id": "1bmJ4lkqGyH6",
        "outputId": "72652850-e40d-4671-aad1-66c07ebf2b4c"
      },
      "id": "1bmJ4lkqGyH6",
      "execution_count": 1,
      "outputs": [
        {
          "output_type": "stream",
          "name": "stdout",
          "text": [
            "Mounted at /content/drive\n"
          ]
        }
      ]
    },
    {
      "cell_type": "markdown",
      "id": "85508cb6",
      "metadata": {
        "id": "85508cb6"
      },
      "source": [
        "### **Import Libraries**"
      ]
    },
    {
      "cell_type": "code",
      "execution_count": 2,
      "id": "chg0Jv3hnA4W",
      "metadata": {
        "colab": {
          "base_uri": "https://localhost:8080/"
        },
        "id": "chg0Jv3hnA4W",
        "outputId": "4769e8c0-d853-4c96-f5e9-a3d372d6d7c8"
      },
      "outputs": [
        {
          "output_type": "stream",
          "name": "stdout",
          "text": [
            "Collecting openai\n",
            "  Downloading openai-0.28.0-py3-none-any.whl (76 kB)\n",
            "\u001b[?25l     \u001b[90m━━━━━━━━━━━━━━━━━━━━━━━━━━━━━━━━━━━━━━━━\u001b[0m \u001b[32m0.0/76.5 kB\u001b[0m \u001b[31m?\u001b[0m eta \u001b[36m-:--:--\u001b[0m\r\u001b[2K     \u001b[90m━━━━━━━━━━━━━━━━━━━━━━━━━━━━━━━━━━━━━━━━\u001b[0m \u001b[32m76.5/76.5 kB\u001b[0m \u001b[31m2.4 MB/s\u001b[0m eta \u001b[36m0:00:00\u001b[0m\n",
            "\u001b[?25hRequirement already satisfied: requests>=2.20 in /usr/local/lib/python3.10/dist-packages (from openai) (2.31.0)\n",
            "Requirement already satisfied: tqdm in /usr/local/lib/python3.10/dist-packages (from openai) (4.66.1)\n",
            "Requirement already satisfied: aiohttp in /usr/local/lib/python3.10/dist-packages (from openai) (3.8.5)\n",
            "Requirement already satisfied: charset-normalizer<4,>=2 in /usr/local/lib/python3.10/dist-packages (from requests>=2.20->openai) (3.2.0)\n",
            "Requirement already satisfied: idna<4,>=2.5 in /usr/local/lib/python3.10/dist-packages (from requests>=2.20->openai) (3.4)\n",
            "Requirement already satisfied: urllib3<3,>=1.21.1 in /usr/local/lib/python3.10/dist-packages (from requests>=2.20->openai) (2.0.4)\n",
            "Requirement already satisfied: certifi>=2017.4.17 in /usr/local/lib/python3.10/dist-packages (from requests>=2.20->openai) (2023.7.22)\n",
            "Requirement already satisfied: attrs>=17.3.0 in /usr/local/lib/python3.10/dist-packages (from aiohttp->openai) (23.1.0)\n",
            "Requirement already satisfied: multidict<7.0,>=4.5 in /usr/local/lib/python3.10/dist-packages (from aiohttp->openai) (6.0.4)\n",
            "Requirement already satisfied: async-timeout<5.0,>=4.0.0a3 in /usr/local/lib/python3.10/dist-packages (from aiohttp->openai) (4.0.3)\n",
            "Requirement already satisfied: yarl<2.0,>=1.0 in /usr/local/lib/python3.10/dist-packages (from aiohttp->openai) (1.9.2)\n",
            "Requirement already satisfied: frozenlist>=1.1.1 in /usr/local/lib/python3.10/dist-packages (from aiohttp->openai) (1.4.0)\n",
            "Requirement already satisfied: aiosignal>=1.1.2 in /usr/local/lib/python3.10/dist-packages (from aiohttp->openai) (1.3.1)\n",
            "Installing collected packages: openai\n",
            "Successfully installed openai-0.28.0\n",
            "Collecting catboost\n",
            "  Downloading catboost-1.2.1-cp310-cp310-manylinux2014_x86_64.whl (98.7 MB)\n",
            "\u001b[2K     \u001b[90m━━━━━━━━━━━━━━━━━━━━━━━━━━━━━━━━━━━━━━━━\u001b[0m \u001b[32m98.7/98.7 MB\u001b[0m \u001b[31m8.6 MB/s\u001b[0m eta \u001b[36m0:00:00\u001b[0m\n",
            "\u001b[?25hRequirement already satisfied: graphviz in /usr/local/lib/python3.10/dist-packages (from catboost) (0.20.1)\n",
            "Requirement already satisfied: matplotlib in /usr/local/lib/python3.10/dist-packages (from catboost) (3.7.1)\n",
            "Requirement already satisfied: numpy>=1.16.0 in /usr/local/lib/python3.10/dist-packages (from catboost) (1.23.5)\n",
            "Requirement already satisfied: pandas>=0.24 in /usr/local/lib/python3.10/dist-packages (from catboost) (1.5.3)\n",
            "Requirement already satisfied: scipy in /usr/local/lib/python3.10/dist-packages (from catboost) (1.10.1)\n",
            "Requirement already satisfied: plotly in /usr/local/lib/python3.10/dist-packages (from catboost) (5.15.0)\n",
            "Requirement already satisfied: six in /usr/local/lib/python3.10/dist-packages (from catboost) (1.16.0)\n",
            "Requirement already satisfied: python-dateutil>=2.8.1 in /usr/local/lib/python3.10/dist-packages (from pandas>=0.24->catboost) (2.8.2)\n",
            "Requirement already satisfied: pytz>=2020.1 in /usr/local/lib/python3.10/dist-packages (from pandas>=0.24->catboost) (2023.3)\n",
            "Requirement already satisfied: contourpy>=1.0.1 in /usr/local/lib/python3.10/dist-packages (from matplotlib->catboost) (1.1.0)\n",
            "Requirement already satisfied: cycler>=0.10 in /usr/local/lib/python3.10/dist-packages (from matplotlib->catboost) (0.11.0)\n",
            "Requirement already satisfied: fonttools>=4.22.0 in /usr/local/lib/python3.10/dist-packages (from matplotlib->catboost) (4.42.1)\n",
            "Requirement already satisfied: kiwisolver>=1.0.1 in /usr/local/lib/python3.10/dist-packages (from matplotlib->catboost) (1.4.4)\n",
            "Requirement already satisfied: packaging>=20.0 in /usr/local/lib/python3.10/dist-packages (from matplotlib->catboost) (23.1)\n",
            "Requirement already satisfied: pillow>=6.2.0 in /usr/local/lib/python3.10/dist-packages (from matplotlib->catboost) (9.4.0)\n",
            "Requirement already satisfied: pyparsing>=2.3.1 in /usr/local/lib/python3.10/dist-packages (from matplotlib->catboost) (3.1.1)\n",
            "Requirement already satisfied: tenacity>=6.2.0 in /usr/local/lib/python3.10/dist-packages (from plotly->catboost) (8.2.3)\n",
            "Installing collected packages: catboost\n",
            "Successfully installed catboost-1.2.1\n"
          ]
        }
      ],
      "source": [
        "# install open AI library to use Chat GPT API\"\n",
        "! pip install openai\n",
        "! pip install catboost"
      ]
    },
    {
      "cell_type": "code",
      "execution_count": null,
      "id": "fd766cb9",
      "metadata": {
        "colab": {
          "base_uri": "https://localhost:8080/"
        },
        "id": "fd766cb9",
        "outputId": "8487f4f1-e8d5-4049-c9e2-3696b92db9a2"
      },
      "outputs": [
        {
          "output_type": "stream",
          "name": "stderr",
          "text": [
            "[nltk_data] Downloading package stopwords to /root/nltk_data...\n",
            "[nltk_data]   Unzipping corpora/stopwords.zip.\n",
            "[nltk_data] Downloading package wordnet to /root/nltk_data...\n",
            "[nltk_data] Downloading package punkt to /root/nltk_data...\n",
            "[nltk_data]   Unzipping tokenizers/punkt.zip.\n"
          ]
        },
        {
          "output_type": "execute_result",
          "data": {
            "text/plain": [
              "True"
            ]
          },
          "metadata": {},
          "execution_count": 5
        }
      ],
      "source": [
        "# import needed libraries\"\n",
        "\n",
        "import pandas as pd\n",
        "import nltk\n",
        "import re\n",
        "from nltk.corpus import stopwords\n",
        "import matplotlib.pyplot as plt\n",
        "from sklearn.feature_extraction.text import CountVectorizer, TfidfTransformer\n",
        "from sklearn.model_selection import train_test_split\n",
        "from sklearn.metrics import accuracy_score, f1_score, precision_score, recall_score\n",
        "from sklearn.metrics import classification_report\n",
        "from sklearn.metrics import precision_recall_fscore_support\n",
        "from sklearn.feature_extraction.text import TfidfVectorizer\n",
        "from sklearn.ensemble import RandomForestClassifier\n",
        "from sklearn import svm\n",
        "from sklearn.tree import DecisionTreeClassifier\n",
        "import xgboost as xgb\n",
        "import lightgbm\n",
        "from sklearn.naive_bayes import MultinomialNB\n",
        "from catboost import CatBoostClassifier\n",
        "from sklearn.neighbors import KNeighborsClassifier\n",
        "from sklearn.svm import LinearSVC\n",
        "from sklearn.pipeline import Pipeline\n",
        "from sklearn.linear_model import SGDClassifier, LogisticRegression\n",
        "from sklearn.neural_network import MLPClassifier\n",
        "from joblib import dump, load\n",
        "from sklearn.ensemble import GradientBoostingClassifier\n",
        "from sklearn import tree\n",
        "import numpy as np\n",
        "import itertools\n",
        "import matplotlib.pyplot as plt\n",
        "import seaborn as sns\n",
        "import openai\n",
        "import time\n",
        "import warnings\n",
        "warnings.filterwarnings(\"ignore\")\n",
        "from nltk.corpus import stopwords\n",
        "import nltk\n",
        "nltk.download('stopwords')\n",
        "stop = stopwords.words('english')\n",
        "nltk.download('wordnet')\n",
        "from nltk.tokenize import word_tokenize\n",
        "import nltk\n",
        "nltk.download('punkt')\n"
      ]
    },
    {
      "cell_type": "markdown",
      "id": "DZg4fAGknGxZ",
      "metadata": {
        "id": "DZg4fAGknGxZ"
      },
      "source": [
        "### **Experiment 1 : Baseline Data**"
      ]
    },
    {
      "cell_type": "code",
      "execution_count": null,
      "id": "36b2b694",
      "metadata": {
        "id": "36b2b694"
      },
      "outputs": [],
      "source": [
        "# Loading the dataset\n",
        "train = pd.read_excel('/content/drive/MyDrive/Output/Experiment_1_train.xlsx')\n",
        "val = pd.read_excel('/content/drive/MyDrive/Output/Experiment_1_val.xlsx')\n",
        "# train"
      ]
    },
    {
      "cell_type": "code",
      "execution_count": null,
      "id": "9ec22f06",
      "metadata": {
        "id": "9ec22f06"
      },
      "outputs": [],
      "source": [
        "# function to clean the data\n",
        "stops = set(stopwords.words(\"english\"))\n",
        "def cleantext(string):\n",
        "    text = string.lower().split()\n",
        "    text = \" \".join(text)\n",
        "    text = re.sub(r\"http(\\S)+\",' ',text)\n",
        "    text = re.sub(r\"www(\\S)+\",' ',text)\n",
        "    text = re.sub(r\"&\",' and ',text)\n",
        "    tx = text.replace('&amp',' ')\n",
        "    text = re.sub(r\"[^0-9a-zA-Z]+\",' ',text)\n",
        "    text = text.split()\n",
        "    text = [w for w in text if not w in stops]\n",
        "    text = \" \".join(text)\n",
        "    return text"
      ]
    },
    {
      "cell_type": "code",
      "execution_count": null,
      "id": "d5247cd6",
      "metadata": {
        "id": "d5247cd6"
      },
      "outputs": [],
      "source": [
        "# Applying the data cleaning function and split Y varaible\n",
        "train['tweet'] = train['tweet'].map(lambda x: cleantext(x))\n",
        "val['tweet'] = val['tweet'].map(lambda x: cleantext(x))\n",
        "\n",
        "trainy=train['label']\n",
        "testy=val['label']"
      ]
    },
    {
      "cell_type": "code",
      "source": [],
      "metadata": {
        "id": "K1549rsmFATx"
      },
      "id": "K1549rsmFATx",
      "execution_count": null,
      "outputs": []
    },
    {
      "cell_type": "code",
      "source": [],
      "metadata": {
        "id": "KZeWbOnzFA6S"
      },
      "id": "KZeWbOnzFA6S",
      "execution_count": null,
      "outputs": []
    },
    {
      "cell_type": "code",
      "execution_count": null,
      "id": "7P47LeWOuqJG",
      "metadata": {
        "id": "7P47LeWOuqJG"
      },
      "outputs": [],
      "source": [
        "# fit TfidfVectorizer on training data and transform test data\n",
        "\n",
        "tf = TfidfVectorizer(tokenizer=word_tokenize, token_pattern=None, lowercase=False)\n",
        "trainx=tf.fit_transform(train['tweet'])\n",
        "testx = tf.transform(val['tweet'])"
      ]
    },
    {
      "cell_type": "markdown",
      "source": [],
      "metadata": {
        "id": "yK2YDFTFFGS8"
      },
      "id": "yK2YDFTFFGS8"
    },
    {
      "cell_type": "code",
      "execution_count": null,
      "id": "jtYCFsUJuK1E",
      "metadata": {
        "colab": {
          "base_uri": "https://localhost:8080/"
        },
        "id": "jtYCFsUJuK1E",
        "outputId": "11a112f2-4ddf-4741-e762-bcb2f812a5ae"
      },
      "outputs": [
        {
          "output_type": "stream",
          "name": "stdout",
          "text": [
            "Logistic Regression [0.9261682242990654, 0.9268283364013122, 0.9261682242990654, 0.926206239364456]\n",
            "Support Vector Machine [0.9345794392523364, 0.9351743283787978, 0.9345794392523364, 0.9346123818466304]\n",
            "Gradient Boost [0.8672897196261682, 0.8704142214985151, 0.8672897196261682, 0.867315800912845]\n",
            "Decision Tree [0.8392523364485981, 0.8392702121292285, 0.8392523364485981, 0.8391369461783289]\n"
          ]
        }
      ],
      "source": [
        "# Modelling\n",
        "models=[LogisticRegression(), svm.SVC(), GradientBoostingClassifier(), DecisionTreeClassifier() ]\n",
        "names= ['Logistic Regression', \"Support Vector Machine\",  'Gradient Boost', 'Decision Tree']\n",
        "\n",
        "Result={}\n",
        "for name, model in zip(names, models):\n",
        "  scores=[]\n",
        "  model.fit(trainx, trainy)\n",
        "  y_pred=model.predict(testx)\n",
        "  a=model.score(testx, testy)\n",
        "  p=precision_score(testy, y_pred, average='weighted')\n",
        "  r=recall_score(testy, y_pred, average='weighted')\n",
        "  f=f1_score(testy, y_pred, average='weighted')\n",
        "  scores.append(a)\n",
        "  scores.append(p)\n",
        "  scores.append(r)\n",
        "  scores.append(f)\n",
        "\n",
        "  print(name, scores)"
      ]
    },
    {
      "cell_type": "markdown",
      "id": "7a9df2e8",
      "metadata": {
        "id": "7a9df2e8"
      },
      "source": [
        "### **Experiment 2: Chat GPT data Alone**"
      ]
    },
    {
      "cell_type": "markdown",
      "id": "17ce18a5",
      "metadata": {
        "id": "17ce18a5"
      },
      "source": [
        "**Data Curation From Chat GPT**"
      ]
    },
    {
      "cell_type": "code",
      "execution_count": null,
      "id": "1b88f954",
      "metadata": {
        "id": "1b88f954"
      },
      "outputs": [],
      "source": [
        "# Queries\n",
        "\n",
        "Queries=[\"What are the global covid-19 statistics as of June 21st 2023?\",\n",
        "\"What are the measures to curtail covid-19 from spreading?\",\n",
        "\"What are the symptoms of covid-19?\",\n",
        "\"What can one do if one has symptoms of covid-19?\",\n",
        "\"What to do if one is tested positive for covid 19?\",\n",
        "\"How To treat covid 19 symptoms at home?\",\n",
        "\"What to do if one is feeling breathless?\",\n",
        "\"what is covid 19?\",\n",
        "\"when should i get a test for covid-19?\",\n",
        "\"is there a vaccine for covid 19?\",\n",
        "\"who is most at risk of severe illness from covid-19?\",\n",
        "\"what test should I get to see if i have covid-19?\",\n",
        "\"What to do if you have tested positive to covid 19?\",\n",
        "\"Which COVID-19 vaccine will I get?\",\n",
        "\"Who can get a 1st and 2nd dose of covid 19 vaccine?\",\n",
        "\"Who can get a booster dose of covid 19 vaccine?\",\n",
        "\"What to bring to your appointment for covid 19 vaccine?\",\n",
        "\"People at increased risk from COVID-19 aged under 16 years old?\",\n",
        "\"People at increased risk from COVID-19 aged 16 years old and over?\"]\n",
        "\n",
        "Queries=[\"Who can get a 1st and 2nd dose?\",\n",
        "\"What do i do to prevent covid19?\",\n",
        "\"What happens to people who get COVID-19?\",\n",
        "\"Who is most at risk of severe illness from COVID-19?\",\n",
        "\"Are there long-term effects of COVID-19?\",\n",
        "\"How can we protect others and ourselves if we don't know who is infected?\",\n",
        "\"When should I get a test for COVID-19?\",\n",
        "\"What test should I get to see if I have COVID-19?\",\n",
        "\"I want to find out if I had COVID-19 in the past, what test could I take?\",\n",
        "\"What is the difference between isolation and quarantine?\",\n",
        "\"What should I do if I have been exposed to someone who has COVID-19?\",\n",
        "\"How long does it take to develop symptoms?\",\n",
        "\"Are antibiotics effective in preventing or treating COVID-19?\"]\n",
        "\n",
        "Queries=[\"Are there treatments for COVID-19?\",\n",
        "\"Are people living with HIV at increased risk of being infected with SARS-CoV-2 or develop more severe COVID-19?\",\n",
        "\"Should the treatment or prevention of COVID-19 be different in people living with HIV?\",\n",
        "\"Can antiretrovirals be used to treat COVID-19 or prevent SARS-CoV-2 infection?\",\n",
        "\"Are COVID-19 vaccines safe for people living with HIV?\",\n",
        "\"Can COVID-19 infection affect HIV test results?\",\n",
        "\"Do COVID-19 vaccines provide protection for people living with HIV?\",\n",
        "\"Should people living with HIV get vaccines early in the roll out?\",\n",
        "\"Should all people living with HIV receive additional doses of COVID-19 vaccine?\",\n",
        "\"What is WHO position on clinical trials/research while the COVID-19 pandemic is ongoing?\",\n",
        "\"What can WHO and the world do to support people living with HIV to live a healthy life?\",\n",
        "\"What is serology?\",\n",
        "\"What is the difference between molecular testing and serologic testing?\",\n",
        "\"What is the purpose of serologic testing?\",\n",
        "\"Does the presence of antibodies mean that a person is immune?\",\n",
        "\"Can people who have had SARS-CoV-2 infection be re-infected?\",\n",
        "\"What are the results of seroprevalence studies published to date?\",\n",
        "\"What is herd immunity?\",\n",
        "\"What does it mean to say a virus mutates or changes?\",\n",
        "\"Should I be concerned about SARS-CoV-2?\",\n",
        "\"What is WHO doing to monitor and understand the changes in SARS-CoV-2?\",\n",
        "\"How does SARS-CoV-2 change when it infects animals, and what are the implications?\"]\n"
      ]
    },
    {
      "cell_type": "code",
      "execution_count": null,
      "id": "8fbf19e9",
      "metadata": {
        "id": "8fbf19e9"
      },
      "outputs": [],
      "source": [
        "\"Chat GPT function to get query response\"\n",
        "def get_completion(prompt, model=\"gpt-3.5-turbo\"):\n",
        "  messages = [{\"role\": \"user\", \"content\": prompt}]\n",
        "  response = openai.ChatCompletion.create(\n",
        "  model=model,\n",
        "  messages=messages,\n",
        "  temperature=0)\n",
        "  return response.choices[0].message[\"content\"]\n",
        "\n",
        "\"Getting responses from Chat GPT\"\n",
        "q_a={}\n",
        "for query in Queries[:2]:\n",
        "  prompt = query + \"Give the answer in paragraphs, each paragraph containing a unit of information or fact\"\n",
        "  response = get_completion(prompt)\n",
        "  q_a[query]=response\n",
        "  time.sleep(5)\n",
        "\n",
        "\"Convert responses to dataframe\"\n",
        "Questions=[]\n",
        "Answers=[]\n",
        "for a, b in q_a.items():\n",
        "  for i in q_a[a].split('\\n\\n'):\n",
        "    Questions.append(a)\n",
        "    Answers.append(i)\n",
        "\n",
        "df=pd.DataFrame({'Questions':Questions, \"Answers\": Answers})\n",
        "#df.to_csv('new_data.csv', sep=',', index=False)"
      ]
    },
    {
      "cell_type": "code",
      "execution_count": null,
      "id": "36e58537",
      "metadata": {
        "colab": {
          "base_uri": "https://localhost:8080/"
        },
        "id": "36e58537",
        "outputId": "bede3094-2e30-4e54-9173-eb14ab46924f"
      },
      "outputs": [
        {
          "output_type": "execute_result",
          "data": {
            "text/plain": [
              "(478, 3)"
            ]
          },
          "metadata": {},
          "execution_count": 6
        }
      ],
      "source": [
        "\"Loading annotated dataset\"\n",
        "df=pd.read_csv('/content/drive/MyDrive/Output/Experiment 2(Chat GPT data).csv')\n",
        "\n",
        "rem=['Who can get a 1st and 2nd dose of covid 19 vaccine?','Who can get a booster dose of covid 19 vaccine?','What to bring to your appointment for covid 19 vaccine?','Should I be concerned about SARS-CoV-2?']\n",
        "for i in rem:\n",
        "  df=df[df['Questions'] != i]\n",
        "\n",
        "df.shape"
      ]
    },
    {
      "cell_type": "code",
      "execution_count": null,
      "id": "fe687216",
      "metadata": {
        "colab": {
          "base_uri": "https://localhost:8080/",
          "height": 445
        },
        "id": "fe687216",
        "outputId": "00eee958-356f-4dcd-8b60-fe8ec598cd3c"
      },
      "outputs": [
        {
          "output_type": "execute_result",
          "data": {
            "text/plain": [
              "Text(0.5, 1.0, 'Label DIstribution')"
            ]
          },
          "metadata": {},
          "execution_count": 8
        },
        {
          "output_type": "display_data",
          "data": {
            "text/plain": [
              "<Figure size 640x480 with 1 Axes>"
            ],
            "image/png": "[encoded data removed]"
          },
          "metadata": {}
        }
      ],
      "source": [
        "\"Label Distribution Countplot\"\n",
        "df['Label'].value_counts().to_frame().plot(kind='pie', y='Label', autopct='%.0f%%')\n",
        "plt.ylabel('')\n",
        "# sns.countplot(x=df[\"Label\"])\n",
        "plt.title('Label DIstribution')"
      ]
    },
    {
      "cell_type": "code",
      "execution_count": null,
      "id": "dc96ca60",
      "metadata": {
        "id": "dc96ca60"
      },
      "outputs": [],
      "source": [
        "\"Convert Label to string\"\n",
        "df['Label']=df['Label'].astype(str)\n",
        "\n",
        "\"Encode the class labels\"\n",
        "df['Label'].replace('False', 0, inplace=True)\n",
        "df['Label'].replace('True', 1, inplace=True)"
      ]
    },
    {
      "cell_type": "code",
      "execution_count": null,
      "id": "2871f882",
      "metadata": {
        "id": "2871f882"
      },
      "outputs": [],
      "source": [
        "\"Extract needed columns\"\n",
        "df=df[['Answers', 'Label']]\n",
        "df=df.rename(columns={\"Answers\": \"content\"})\n",
        "\n",
        "\"Split data to train and test\"\n",
        "from sklearn.model_selection import train_test_split\n",
        "train, test = train_test_split(df,  test_size=0.2, random_state=42)"
      ]
    },
    {
      "cell_type": "code",
      "execution_count": null,
      "id": "ab064b23",
      "metadata": {
        "id": "ab064b23"
      },
      "outputs": [],
      "source": [
        "\"lower casing\"\n",
        "train['content']=train['content'].str.lower()\n",
        "test['content']=test['content'].str.lower()"
      ]
    },
    {
      "cell_type": "code",
      "execution_count": null,
      "id": "899dd417",
      "metadata": {
        "id": "899dd417"
      },
      "outputs": [],
      "source": [
        "\"Stop words removal\"\n",
        "train['content']=train['content'].apply(lambda x: ' '.join([word for word in x.split() if word not in (stop)]))\n",
        "test['content']=test['content'].apply(lambda x: ' '.join([word for word in x.split() if word not in (stop)]))"
      ]
    },
    {
      "cell_type": "code",
      "execution_count": null,
      "id": "f1c8d671",
      "metadata": {
        "id": "f1c8d671"
      },
      "outputs": [],
      "source": [
        "#Lemmatization\n",
        "\n",
        "lemmatizer = nltk.stem.WordNetLemmatizer()\n",
        "train['content']=train['content'].str.split()\n",
        "test['content']=test['content'].str.split()\n",
        "train['content']=train['content'].apply(lambda x: [lemmatizer.lemmatize(y) for y in x]) # Stem every word.\n",
        "test['content']=test['content'].apply(lambda x: [lemmatizer.lemmatize(y) for y in x]) # Stem every word.\n",
        "\n",
        "train_data=[]\n",
        "test_data=[]\n",
        "for i in train['content'].to_list():\n",
        "  train_data.append(' '.join(i))\n",
        "for i in test['content'].to_list():\n",
        "  test_data.append(' '.join(i))\n",
        "\n"
      ]
    },
    {
      "cell_type": "code",
      "execution_count": null,
      "id": "94894720",
      "metadata": {
        "id": "94894720"
      },
      "outputs": [],
      "source": [
        "\"Split data to dependent and independet variables\"\n",
        "\n",
        "train['content']=train_data\n",
        "test['content']=test_data\n",
        "\n",
        "trainy=train['Label']\n",
        "testy=test['Label']"
      ]
    },
    {
      "cell_type": "code",
      "execution_count": null,
      "id": "396a8066",
      "metadata": {
        "id": "396a8066"
      },
      "outputs": [],
      "source": [
        "\"fit TfidfVectorizer on training data and transform test data\"\n",
        "\n",
        "tf = TfidfVectorizer(tokenizer=word_tokenize, token_pattern=None, lowercase=False)\n",
        "trainx=tf.fit_transform(train['content'])\n",
        "testx = tf.transform(test['content'])"
      ]
    },
    {
      "cell_type": "code",
      "execution_count": null,
      "id": "CCG0WtUg2tLR",
      "metadata": {
        "id": "CCG0WtUg2tLR"
      },
      "outputs": [],
      "source": [
        "\"Modelling\"\n",
        "models=[LogisticRegression(), RandomForestClassifier(), svm.SVC(), lightgbm.LGBMClassifier(), GradientBoostingClassifier(), xgb.XGBClassifier(),\\\n",
        "        DecisionTreeClassifier(), MultinomialNB(),  CatBoostClassifier(verbose=0), KNeighborsClassifier() ]\n",
        "names= ['Logistic Regression', 'Random Forest', \"Support Vector Machine\", 'Light GBM', 'Gradient Boost', 'XGBoost',\\\n",
        "        'Decision Tree','Naive Bayes',  'CatBoost', 'K Nearest Neighbor']\n",
        "\n",
        "Result={}\n",
        "for name, model in zip(names, models):\n",
        "  scores=[]\n",
        "  model.fit(trainx, trainy)\n",
        "  y_pred=model.predict(testx)\n",
        "  a=model.score(testx, testy)\n",
        "  p=precision_score(testy, y_pred, average='weighted')\n",
        "  r=recall_score(testy, y_pred, average='weighted')\n",
        "  f=f1_score(testy, y_pred, average='weighted')\n",
        "  scores.append(a)\n",
        "  scores.append(p)\n",
        "  scores.append(r)\n",
        "  scores.append(f)\n",
        "\n",
        "  Result[name]=scores\n",
        "\n",
        "result=pd.DataFrame(Result).T.rename(columns={0:'Accuracy', 1: \"Precision\", 2: \"Recall\", 3: 'F1 Score'})\n",
        "result=result* 100\n",
        "result=result.round(1)\n",
        "result.reset_index().to_csv('Result Chat GPT data.csv', sep=',', index=False)"
      ]
    },
    {
      "cell_type": "markdown",
      "id": "1cac3dd5",
      "metadata": {
        "id": "1cac3dd5"
      },
      "source": [
        "### **Experiment 3: with Augmented Data**"
      ]
    },
    {
      "cell_type": "code",
      "execution_count": null,
      "id": "c333420a",
      "metadata": {
        "colab": {
          "base_uri": "https://localhost:8080/"
        },
        "id": "c333420a",
        "outputId": "3d4baa76-4339-47ad-bff0-71ad8bd3231b"
      },
      "outputs": [
        {
          "output_type": "stream",
          "name": "stdout",
          "text": [
            "3089\n",
            "7623\n"
          ]
        }
      ],
      "source": [
        "# Loading annotated Chat GPT dataset\n",
        "df=pd.read_csv('/content/drive/MyDrive/Output/Experiment 2(Chat GPT data).csv')\n",
        "\n",
        "# Add Facov external data\n",
        "facov=pd.read_csv('/content/drive/MyDrive/Output/Experiment_3_1.csv')  # add Facov Dataset\n",
        "print(facov.shape[0])\n",
        "facov=facov[['content', '2class_labels']]\n",
        "facov.dropna(inplace=True)\n",
        "\n",
        "# Add FakeCovid- A Multilingual data\n",
        "fake_data=pd.read_csv('/content/drive/MyDrive/Output/Experiment_3_2.csv')\n",
        "print(fake_data.shape[0])\n",
        "fake_data['class']=fake_data['class'].str.replace('FALSE', 'False')\n",
        "fake_data=fake_data[fake_data['lang']=='en']\n",
        "fake_data=fake_data[(fake_data['class']=='False') | (fake_data['class']=='True')]\n",
        "fake_data=fake_data[['content_text', 'class']]\n",
        "\n",
        "# Renaming data columns\n",
        "fake_data.rename(columns={'content_text': 'content'}, inplace=True)\n",
        "facov.rename(columns={'2class_labels': 'class'}, inplace=True)\n",
        "df.rename(columns={'Label': 'class'}, inplace=True)\n",
        "df.rename(columns={'Answers': 'content'}, inplace=True)\n",
        "\n",
        "# Concat all three data (Chat GPT, Facov and FakeCovid- A Multilingual data) into a single dataset\n",
        "data=pd.concat([df[['content','class']], facov, fake_data], axis=0).reset_index(drop=True)\n",
        "data['class']=data['class'].astype(str).str.lower()"
      ]
    },
    {
      "cell_type": "code",
      "execution_count": null,
      "id": "8947265f",
      "metadata": {
        "colab": {
          "base_uri": "https://localhost:8080/",
          "height": 445
        },
        "id": "8947265f",
        "outputId": "791e0d65-bee2-4a81-ec88-f48039315872"
      },
      "outputs": [
        {
          "output_type": "execute_result",
          "data": {
            "text/plain": [
              "Text(0.5, 1.0, 'Label Distribution Countplot After Augmenting the Dataset')"
            ]
          },
          "metadata": {},
          "execution_count": 11
        },
        {
          "output_type": "display_data",
          "data": {
            "text/plain": [
              "<Figure size 640x480 with 1 Axes>"
            ],
            "image/png": "[encoded data removed]"
          },
          "metadata": {}
        }
      ],
      "source": [
        "# Label Distribution Countplot After Augmenting the Dataset\n",
        "# Label Distribution Countplot\n",
        "data['class'].value_counts().to_frame().plot(kind='pie', y='class', autopct='%.0f%%')\n",
        "plt.ylabel('')\n",
        "# sns.countplot(x=df[\"Label\"])\n",
        "plt.title('Label Distribution Countplot After Augmenting the Dataset')"
      ]
    },
    {
      "cell_type": "markdown",
      "id": "1d599f48",
      "metadata": {
        "id": "1d599f48"
      },
      "source": [
        "**Modelling**"
      ]
    },
    {
      "cell_type": "code",
      "execution_count": null,
      "id": "67d123d3",
      "metadata": {
        "id": "67d123d3"
      },
      "outputs": [],
      "source": [
        "# make a copy of dataset to variable df\n",
        "df=data"
      ]
    },
    {
      "cell_type": "code",
      "execution_count": null,
      "id": "effcff71",
      "metadata": {
        "colab": {
          "base_uri": "https://localhost:8080/"
        },
        "id": "effcff71",
        "outputId": "6325da28-a053-48a4-dbce-a8077e0e1fd1"
      },
      "outputs": [
        {
          "output_type": "execute_result",
          "data": {
            "text/plain": [
              "(5903, 2)"
            ]
          },
          "metadata": {},
          "execution_count": 13
        }
      ],
      "source": [
        "df.shape"
      ]
    },
    {
      "cell_type": "code",
      "execution_count": null,
      "id": "bed85824",
      "metadata": {
        "id": "bed85824"
      },
      "outputs": [],
      "source": [
        "# Encode the class labels\n",
        "df['class'].replace('false', 0, inplace=True)\n",
        "df['class'].replace('true', 1, inplace=True)"
      ]
    },
    {
      "cell_type": "code",
      "execution_count": null,
      "id": "d1236c9a",
      "metadata": {
        "id": "d1236c9a"
      },
      "outputs": [],
      "source": [
        "# Split data to train and test\n",
        "from sklearn.model_selection import train_test_split\n",
        "train, test = train_test_split(df,  test_size=0.2, random_state=42)"
      ]
    },
    {
      "cell_type": "code",
      "execution_count": null,
      "id": "a6757a1f",
      "metadata": {
        "id": "a6757a1f"
      },
      "outputs": [],
      "source": [
        "# Lowercasing\n",
        "train['content']=train['content'].str.lower()\n",
        "test['content']=test['content'].str.lower()"
      ]
    },
    {
      "cell_type": "code",
      "execution_count": null,
      "id": "b83d0556",
      "metadata": {
        "id": "b83d0556"
      },
      "outputs": [],
      "source": [
        "# Stop words removal\n",
        "train['content']=train['content'].apply(lambda x: ' '.join([word for word in x.split() if word not in (stop)]))\n",
        "test['content']=test['content'].apply(lambda x: ' '.join([word for word in x.split() if word not in (stop)]))"
      ]
    },
    {
      "cell_type": "code",
      "execution_count": null,
      "id": "fcd80464",
      "metadata": {
        "id": "fcd80464"
      },
      "outputs": [],
      "source": [
        "# Lemmatization\n",
        "lemmatizer = nltk.stem.WordNetLemmatizer()\n",
        "train['content']=train['content'].str.split()\n",
        "test['content']=test['content'].str.split()\n",
        "train['content']=train['content'].apply(lambda x: [lemmatizer.lemmatize(y) for y in x]) # Stem every word.\n",
        "test['content']=test['content'].apply(lambda x: [lemmatizer.lemmatize(y) for y in x]) # Stem every word.\n",
        "\n",
        "train_data=[]\n",
        "test_data=[]\n",
        "for i in train['content'].to_list():\n",
        "  train_data.append(' '.join(i))\n",
        "for i in test['content'].to_list():\n",
        "  test_data.append(' '.join(i))\n"
      ]
    },
    {
      "cell_type": "code",
      "execution_count": null,
      "id": "acb46270",
      "metadata": {
        "id": "acb46270"
      },
      "outputs": [],
      "source": [
        "# Split data to dependent and independent variables\n",
        "train['content']=train_data\n",
        "test['content']=test_data\n",
        "trainy=train['class']\n",
        "testy=test['class']"
      ]
    },
    {
      "cell_type": "code",
      "execution_count": null,
      "id": "f3d1d304",
      "metadata": {
        "id": "f3d1d304"
      },
      "outputs": [],
      "source": [
        "# fit Vectorizer on train and test data\n",
        "tf = TfidfVectorizer(tokenizer=word_tokenize, token_pattern=None, lowercase=False)\n",
        "trainx=tf.fit_transform(train['content'])\n",
        "testx = tf.transform(test['content'])"
      ]
    },
    {
      "cell_type": "code",
      "execution_count": null,
      "id": "Dy6ZWfYsT8oc",
      "metadata": {
        "id": "Dy6ZWfYsT8oc"
      },
      "outputs": [],
      "source": [
        "# Modelling\n",
        "models=[LogisticRegression(), RandomForestClassifier(), svm.SVC(), lightgbm.LGBMClassifier(), GradientBoostingClassifier(), xgb.XGBClassifier(),\\\n",
        "        DecisionTreeClassifier(), MultinomialNB(),  CatBoostClassifier(verbose=0), KNeighborsClassifier() ]\n",
        "names= ['Logistic Regression', 'Random Forest', \"Support Vector Machine\", 'Light GBM', 'Gradient Boost', 'XGBoost',\\\n",
        "        'Decision Tree','Naive Bayes',  'CatBoost', 'K Nearest Neighbor']\n",
        "\n",
        "Result={}\n",
        "for name, model in zip(names, models):\n",
        "  scores=[]\n",
        "  model.fit(trainx, trainy)\n",
        "  y_pred=model.predict(testx)\n",
        "  a=model.score(testx, testy)\n",
        "  p=precision_score(testy, y_pred, average='weighted')\n",
        "  r=recall_score(testy, y_pred, average='weighted')\n",
        "  f=f1_score(testy, y_pred, average='weighted')\n",
        "  scores.append(a)\n",
        "  scores.append(p)\n",
        "  scores.append(r)\n",
        "  scores.append(f)\n",
        "\n",
        "  Result[name]=scores\n",
        "\n",
        "result=pd.DataFrame(Result).T.rename(columns={0:'Accuracy', 1: \"Precision\", 2: \"Recall\", 3: 'F1 Score'})\n",
        "result=result* 100\n",
        "result=result.round(1)\n",
        "result.reset_index().to_csv('Result Chat GPT with Extended data.csv', sep=',', index=False)"
      ]
    }
  ],
  "metadata": {
    "accelerator": "GPU",
    "colab": {
      "gpuType": "T4",
      "provenance": []
    },
    "kernelspec": {
      "display_name": "Python 3 (ipykernel)",
      "language": "python",
      "name": "python3"
    },
    "language_info": {
      "codemirror_mode": {
        "name": "ipython",
        "version": 3
      },
      "file_extension": ".py",
      "mimetype": "text/x-python",
      "name": "python",
      "nbconvert_exporter": "python",
      "pygments_lexer": "ipython3",
      "version": "3.9.13"
    }
  },
  "nbformat": 4,
  "nbformat_minor": 5
}